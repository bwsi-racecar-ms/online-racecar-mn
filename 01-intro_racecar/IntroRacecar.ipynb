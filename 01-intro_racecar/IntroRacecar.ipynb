{
 "cells": [
  {
   "cell_type": "code",
   "execution_count": null,
   "metadata": {},
   "outputs": [],
   "source": [
    "# Import functions \n",
    "import sys\n",
    "sys.path.insert(0, '..')\n",
    "from racecar_utils import *  "
   ]
  },
  {
   "cell_type": "code",
   "execution_count": null,
   "metadata": {},
   "outputs": [],
   "source": [
    "# Start ROS node\n",
    "rospy.init_node('racecar')\n",
    "rc = Racecar()\n",
    "print('ROS node started successfully')"
   ]
  },
  {
   "cell_type": "markdown",
   "metadata": {},
   "source": [
    "# Start Up Instructions\n",
    "\n",
    "<p style='font-size:1.75rem;line-height:1.5'>\n",
    "    Please read the startup instructions PDF before getting started!\n",
    "    </p>\n",
    "    \n",
    "<p style='font-size:1.75rem;line-height:1.5'>\n",
    "    Remember to start <code>roscore</code>.\n",
    "    </p>"
   ]
  },
  {
   "cell_type": "markdown",
   "metadata": {},
   "source": [
    "# Operating the Car\n",
    "\n",
    "<p style='font-size:1.75rem;line-height:1.5'>\n",
    "    <code>rc.drive(&lt;speed&gt;, &lt;angle&gt;)</code> is a function that tells the car to drive at the speed and angle passed into the function. \n",
    "    <br> <code>rc.run(&lt;function_name&gt;, &lt;test_time&gt;)</code> tells the car to run the <code>function_name</code> for the specified <code>test_time</code> length in seconds. \n",
    "</p>\n",
    "\n",
    "<p style='font-size:1.75rem;line-height:1.5'>\n",
    "    For now, let us experiment with the speed and angle to get used to how the car measurements work. \n",
    "</p>"
   ]
  },
  {
   "cell_type": "code",
   "execution_count": null,
   "metadata": {},
   "outputs": [],
   "source": [
    "# car will drive forward for ~10 seconds\n",
    "def drive_forward(frame):\n",
    "    rc.drive(0.2, 0) # change these numbers: rc.drive(speed, angle)\n",
    "    \n",
    "rc.run(drive_forward, 10) # drive forward for ~10 seconds"
   ]
  },
  {
   "cell_type": "markdown",
   "metadata": {},
   "source": [
    "# Shape Driving\n",
    "\n",
    "<p style='font-size:1.75rem;line-height:1.5'>\n",
    "    <b style='color:red'>Remember to get a sticker from a TA before taking your car off the block!</b>\n",
    "    <br> Now that we have basic idea of the measurements, let us make a function that will drive the car in a circle autonomously! \n",
    "</p>"
   ]
  },
  {
   "cell_type": "markdown",
   "metadata": {},
   "source": [
    "<p style='font-size:1.75rem;line-height:1.5'>\n",
    "    Drive your car in a circle autonomously!\n",
    "    </p>"
   ]
  },
  {
   "cell_type": "code",
   "execution_count": null,
   "metadata": {},
   "outputs": [],
   "source": [
    "# define your own function \n",
    "\n",
    "def circle(frame):\n",
    "    # use the drive function to drive the car\n",
    "    rc.drive(0.2, 0)\n",
    "\n",
    "rc.run(circle)"
   ]
  },
  {
   "cell_type": "markdown",
   "metadata": {},
   "source": [
    "<p style='font-size:1.75rem;line-height:1.5'>\n",
    "    Drive your car in a rectangle autonomously!\n",
    "    </p>"
   ]
  },
  {
   "cell_type": "code",
   "execution_count": null,
   "metadata": {},
   "outputs": [],
   "source": [
    "def rectangle(frame):\n",
    "    # use the drive function to drive the car\n",
    "\n",
    "# rc.run()"
   ]
  },
  {
   "cell_type": "markdown",
   "metadata": {},
   "source": [
    "<p style='font-size:1.75rem;line-height:1.5'>\n",
    "    <b>Challenge:</b> Try driving your car in a figure-eight autonomously! \n",
    "</p> "
   ]
  },
  {
   "cell_type": "code",
   "execution_count": null,
   "metadata": {},
   "outputs": [],
   "source": [
    "def figure_eight(frame):\n",
    "    # use the drive function to drive the car\n",
    "\n",
    "# rc.run()"
   ]
  },
  {
   "cell_type": "markdown",
   "metadata": {},
   "source": [
    "# Mini Competition 1: Cone Parking\n",
    "\n",
    "<p style='font-size:1.75rem;line-height:1.5'>\n",
    "    <b style='color:red'>Remember to get a sticker from a TA before taking your car off the block!</b>\n",
    "    </p>\n",
    "\n",
    "<p style='font-size:1.75rem;line-height:1.5'>\n",
    "    Now, we are going to have a small competition where we learn to park cars in front of a cone. \n",
    "    <br>Here are the rules:\n",
    "    <ol style='font-size:1.75rem;line-height:1.5'>\n",
    "        <li> Winner is the car that <b style='color:green'>starts the furthest away from cone</b>, and <b style='color:green'>parks exactly half a foot away</b> from the cone. The highest scoring (aka most accurately parking) car wins.</li> \n",
    "        <br>\n",
    "        <li> <b style='color:magenta'>The car should park autonomously.</b> \n",
    "            <br> Any attempt that involves the joystick taking over control will be disqualified. </li>\n",
    "        <br>\n",
    "        <li> It is better to start off too slow than too fast. Be careful even on your first attempts! \n",
    "            <br><b style='color:red'>START SLOW</b></li>\n",
    "    </ol>\n",
    "</p>\n",
    "\n",
    "<p style='font-size:1.75rem;line-height:1.5'>\n",
    "    Points calculation formula (best attempt):\n",
    "</p>\n",
    "\n",
    "```python\n",
    "points = [start_distance - sqrt(speed)*error] / 12\n",
    "```"
   ]
  },
  {
   "cell_type": "code",
   "execution_count": null,
   "metadata": {},
   "outputs": [],
   "source": [
    "def known_cone_parking(frame):\n",
    "    # use the drive function to drive the car\n",
    "    \n",
    "# rc.run() \n"
   ]
  },
  {
   "cell_type": "markdown",
   "metadata": {},
   "source": [
    "# Mini Competition 2: Obstacle Navigation\n",
    "\n",
    "<p style='font-size:1.75rem;line-height:1.5'>\n",
    "    <b style='color:red'>Remember to get a sticker from a TA before taking your car off the block!</b>\n",
    "    </p>\n",
    "    \n",
    "<p style='font-size:1.75rem;line-height:1.5'>\n",
    "    Next, we will have a competition to see who can best navigate obstacles of exactly 4 feet apart. The winning car will be the car that can best weave through these obstacles and not bump into them. This time, we won't give a rubric.\n",
    "    </p>\n",
    "\n",
    "<p style='font-size:1.75rem;line-height:1.5'>\n",
    "    Have fun testing! \n",
    "    </p>\n",
    "\n"
   ]
  },
  {
   "cell_type": "code",
   "execution_count": null,
   "metadata": {},
   "outputs": [],
   "source": [
    "def known_obs_nav(frame):\n",
    "    # use the drive function to drive the car\n",
    "\n",
    "# rc.run() \n"
   ]
  }
 ],
 "metadata": {
  "kernelspec": {
   "display_name": "Python 3",
   "language": "python",
   "name": "python3"
  },
  "language_info": {
   "codemirror_mode": {
    "name": "ipython",
    "version": 3
   },
   "file_extension": ".py",
   "mimetype": "text/x-python",
   "name": "python",
   "nbconvert_exporter": "python",
   "pygments_lexer": "ipython3",
   "version": "3.8.1"
  }
 },
 "nbformat": 4,
 "nbformat_minor": 4
}
